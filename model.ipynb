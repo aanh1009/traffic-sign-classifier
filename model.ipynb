{
 "cells": [
  {
   "cell_type": "code",
   "execution_count": 1,
   "id": "29545755-5964-44a6-b7c7-b85c6c545c98",
   "metadata": {},
   "outputs": [],
   "source": [
    "import torch"
   ]
  },
  {
   "cell_type": "code",
   "execution_count": 2,
   "id": "e534dc78-1cb4-4862-b0b0-66f9c6bcd07a",
   "metadata": {},
   "outputs": [],
   "source": [
    "import torch.nn as nn\n",
    "import torch.nn.functional as F\n",
    "import torch.optim as optim\n",
    "import torchvision.transforms as transforms\n",
    "from torchvision.datasets import ImageFolder\n",
    "from torch.utils.data import DataLoader, random_split, Subset\n",
    "from PIL import Image, UnidentifiedImageError\n",
    "import os\n",
    "import numpy as np"
   ]
  },
  {
   "cell_type": "code",
   "execution_count": 3,
   "id": "a0317e89-6497-429b-9805-3ff21f50f440",
   "metadata": {},
   "outputs": [],
   "source": [
    "data_transforms = transforms.Compose([\n",
    "    transforms.Resize((128, 128)),\n",
    "    transforms.ToTensor(),\n",
    "    transforms.Normalize(mean=[0.485, 0.456, 0.406], std=[0.229, 0.224, 0.225])\n",
    "])"
   ]
  },
  {
   "cell_type": "code",
   "execution_count": 4,
   "id": "8411e6fd-7401-45c8-82d4-ab28694900e3",
   "metadata": {},
   "outputs": [
    {
     "name": "stdout",
     "output_type": "stream",
     "text": [
      "Downloading https://sid.erda.dk/public/archives/daaeac0d7ce1152aea9b61d9f1e19370/GTSRB-Training_fixed.zip to data\\gtsrb\\GTSRB-Training_fixed.zip\n"
     ]
    },
    {
     "name": "stderr",
     "output_type": "stream",
     "text": [
      "100.0%\n"
     ]
    },
    {
     "name": "stdout",
     "output_type": "stream",
     "text": [
      "Extracting data\\gtsrb\\GTSRB-Training_fixed.zip to data\\gtsrb\n"
     ]
    }
   ],
   "source": [
    "import torchvision\n",
    "train_dataset = torchvision.datasets.GTSRB(root = 'data', split = 'train', download = True, transform = data_transforms)"
   ]
  },
  {
   "cell_type": "code",
   "execution_count": 5,
   "id": "f982bd06-4da8-4ada-8036-d17a6c646fca",
   "metadata": {},
   "outputs": [],
   "source": [
    "portion = 0.1   # Use 10% of the dataset for training and validation\n",
    "total_size = len(train_dataset)\n",
    "subset_size = int(portion * total_size)\n",
    "indices = np.random.choice(total_size, subset_size, replace=False)"
   ]
  },
  {
   "cell_type": "code",
   "execution_count": 6,
   "id": "71dce134-ba59-4237-a938-4a3ddc0b60e4",
   "metadata": {},
   "outputs": [],
   "source": [
    "train_size = int(0.8 * subset_size)\n",
    "val_size = subset_size - train_size\n",
    "train_indices = indices[:train_size]\n",
    "val_indices = indices[train_size:]"
   ]
  },
  {
   "cell_type": "code",
   "execution_count": 7,
   "id": "cacab589-fa03-438c-8960-1ec45f3e1ac3",
   "metadata": {},
   "outputs": [],
   "source": [
    "trainset = DataLoader(torch.utils.data.Subset(train_dataset,train_indices), batch_size =64)\n",
    "testset = DataLoader(torch.utils.data.Subset(train_dataset,val_indices), batch_size = 64)"
   ]
  },
  {
   "cell_type": "code",
   "execution_count": 8,
   "id": "cbd8a041-f431-470d-af5c-c954e570ddf2",
   "metadata": {},
   "outputs": [],
   "source": [
    "class Net(nn.Module):\n",
    "  def __init__(self):\n",
    "    super(Net, self).__init__()\n",
    "    self.conv1 = nn.Conv2d(3, 16, padding =1, kernel_size = 3, stride = 1) #64x64\n",
    "    self.conv2 = nn.Conv2d(16, 32, padding =1, kernel_size = 3, stride = 1) #32x32\n",
    "    self.conv3 = nn.Conv2d(32, 64, padding =1, kernel_size = 3, stride = 1) #16x16\n",
    "    self.dropout = nn.Dropout(0.25)\n",
    "    self.fc1 = nn.Linear(64*16*16, 256)\n",
    "    self.fc2 = nn.Linear(256,43)\n",
    "  def forward(self, x):\n",
    "    x = F.relu(self.conv1(x))\n",
    "    x = F.max_pool2d(x,2)\n",
    "    x = F.relu(self.conv2(x))\n",
    "    x = F.max_pool2d(x,2)\n",
    "    x = F.relu(self.conv3(x))\n",
    "    x = F.max_pool2d(x,2)\n",
    "    x = self.dropout(x)\n",
    "    x = torch.flatten(x,1)\n",
    "    x = self.fc1(x)\n",
    "    x = F.relu(x)\n",
    "    x = self.fc2(x)\n",
    "    return x"
   ]
  },
  {
   "cell_type": "code",
   "execution_count": 9,
   "id": "0a3eb516-2b4f-4ec5-b420-b8e072501790",
   "metadata": {},
   "outputs": [],
   "source": [
    "model = Net()\n",
    "criterion = nn.CrossEntropyLoss()\n",
    "optimizer = optim.Adam(model.parameters(), lr = 0.0005)"
   ]
  },
  {
   "cell_type": "code",
   "execution_count": 10,
   "id": "128b5e32-d09b-4fcb-baa8-de1019c1b809",
   "metadata": {},
   "outputs": [
    {
     "name": "stdout",
     "output_type": "stream",
     "text": [
      "Epoch [1/24], Loss: 3.3197740456637215\n",
      "Epoch [2/24], Loss: 2.3066812332938698\n",
      "Epoch [3/24], Loss: 1.6064892831970663\n",
      "Epoch [4/24], Loss: 1.1507232180413078\n",
      "Epoch [5/24], Loss: 0.8214704731807989\n",
      "Epoch [6/24], Loss: 0.6198435837731642\n",
      "Epoch [7/24], Loss: 0.46641354964059945\n",
      "Epoch [8/24], Loss: 0.34620540383655357\n",
      "Epoch [9/24], Loss: 0.22713777510558858\n",
      "Epoch [10/24], Loss: 0.2016694699140156\n",
      "Epoch [11/24], Loss: 0.14924996202085716\n",
      "Epoch [12/24], Loss: 0.09905953023253995\n",
      "Epoch [13/24], Loss: 0.09541747942292954\n",
      "Epoch [14/24], Loss: 0.07777083522694953\n",
      "Epoch [15/24], Loss: 0.08402570917764131\n",
      "Epoch [16/24], Loss: 0.06329872851561316\n",
      "Epoch [17/24], Loss: 0.07975270890849917\n",
      "Epoch [18/24], Loss: 0.053731728338307756\n",
      "Epoch [19/24], Loss: 0.04493146948516369\n",
      "Epoch [20/24], Loss: 0.08741359303445172\n",
      "Epoch [21/24], Loss: 0.03969023177556023\n",
      "Epoch [22/24], Loss: 0.029252265583422473\n",
      "Epoch [23/24], Loss: 0.016126575289116075\n",
      "Epoch [24/24], Loss: 0.0226264392669477\n"
     ]
    }
   ],
   "source": [
    "epochs = 24\n",
    "for epoch in range(epochs):\n",
    "  running_loss = 0.0\n",
    "  for images, labels in trainset:\n",
    "    outputs = model(images)\n",
    "    loss = criterion(outputs, labels)\n",
    "    optimizer.zero_grad()\n",
    "    loss.backward()\n",
    "    optimizer.step()\n",
    "    running_loss +=loss.item()\n",
    "  print(f'Epoch [{epoch+1}/{epochs}], Loss: {running_loss/len(trainset)}')"
   ]
  },
  {
   "cell_type": "code",
   "execution_count": 11,
   "id": "6f6f5509-9d38-4b5c-95fc-7dc3e2c4f8aa",
   "metadata": {},
   "outputs": [
    {
     "name": "stdout",
     "output_type": "stream",
     "text": [
      "Accuracy of the model on the test images: 86.68%\n"
     ]
    }
   ],
   "source": [
    "correct = 0\n",
    "total = 0\n",
    "preds = []\n",
    "label = []\n",
    "with torch.no_grad():\n",
    "    for images, labels in testset:\n",
    "        label += labels.tolist()\n",
    "        preds += list(model(images).argmax(dim=1).numpy())\n",
    "        outputs = model(images)\n",
    "        _, predicted = torch.max(outputs.data, 1)\n",
    "        total += labels.size(0)\n",
    "        correct += (predicted == labels).sum().item()\n",
    "\n",
    "print('Accuracy of the model on the test images: {:.2f}%'.format(100 * correct / total))"
   ]
  },
  {
   "cell_type": "code",
   "execution_count": 29,
   "id": "81bfd74c-b4eb-4574-8399-886216236890",
   "metadata": {},
   "outputs": [],
   "source": [
    "data = {'data_transforms' : data_transforms}\n",
    "import pickle\n",
    "with open('saved_steps.pkl','wb') as file:\n",
    "    pickle.dump(data,file)"
   ]
  },
  {
   "cell_type": "code",
   "execution_count": 30,
   "id": "a0822db1-bb5b-4cd9-b7bc-35b1949f04eb",
   "metadata": {},
   "outputs": [],
   "source": [
    "with open('saved_steps.pkl','rb') as file:\n",
    "    data = pickle.load(file)"
   ]
  },
  {
   "cell_type": "code",
   "execution_count": 41,
   "id": "a6a847a0-ed2b-48d6-97ab-2fce8796c8f1",
   "metadata": {},
   "outputs": [],
   "source": [
    "with open('model.pt', 'wb') as file:\n",
    "    torch.save(model, file)"
   ]
  },
  {
   "cell_type": "code",
   "execution_count": 44,
   "id": "2e30164e-1651-42f4-a123-99f0aa267c0e",
   "metadata": {},
   "outputs": [
    {
     "name": "stderr",
     "output_type": "stream",
     "text": [
      "C:\\Users\\SURFACE BOOK\\AppData\\Local\\Temp\\ipykernel_13652\\3874137040.py:2: FutureWarning: You are using `torch.load` with `weights_only=False` (the current default value), which uses the default pickle module implicitly. It is possible to construct malicious pickle data which will execute arbitrary code during unpickling (See https://github.com/pytorch/pytorch/blob/main/SECURITY.md#untrusted-models for more details). In a future release, the default value for `weights_only` will be flipped to `True`. This limits the functions that could be executed during unpickling. Arbitrary objects will no longer be allowed to be loaded via this mode unless they are explicitly allowlisted by the user via `torch.serialization.add_safe_globals`. We recommend you start setting `weights_only=True` for any use case where you don't have full control of the loaded file. Please open an issue on GitHub for any issues related to this experimental feature.\n",
      "  the_model = torch.load(file)\n"
     ]
    }
   ],
   "source": [
    "with open('model.pt', 'rb') as file:\n",
    "    the_model = torch.load(file)"
   ]
  },
  {
   "cell_type": "code",
   "execution_count": 49,
   "id": "5c9ec477-0631-44b1-9f25-8371af83e29e",
   "metadata": {},
   "outputs": [
    {
     "data": {
      "text/plain": [
       "Net(\n",
       "  (conv1): Conv2d(3, 16, kernel_size=(3, 3), stride=(1, 1), padding=(1, 1))\n",
       "  (conv2): Conv2d(16, 32, kernel_size=(3, 3), stride=(1, 1), padding=(1, 1))\n",
       "  (conv3): Conv2d(32, 64, kernel_size=(3, 3), stride=(1, 1), padding=(1, 1))\n",
       "  (dropout): Dropout(p=0.25, inplace=False)\n",
       "  (fc1): Linear(in_features=16384, out_features=256, bias=True)\n",
       "  (fc2): Linear(in_features=256, out_features=43, bias=True)\n",
       ")"
      ]
     },
     "execution_count": 49,
     "metadata": {},
     "output_type": "execute_result"
    }
   ],
   "source": [
    "the_model"
   ]
  },
  {
   "cell_type": "code",
   "execution_count": 50,
   "id": "f6e28c81-acfa-42a3-aabe-6eb186575792",
   "metadata": {},
   "outputs": [],
   "source": [
    "model_scripted = torch.jit.script(model) # Export to TorchScript\n",
    "model_scripted.save('model_scripted.pt')"
   ]
  },
  {
   "cell_type": "code",
   "execution_count": 51,
   "id": "2dfa5e9e-df0c-495c-89f0-95fb1d3aee36",
   "metadata": {},
   "outputs": [
    {
     "data": {
      "text/plain": [
       "RecursiveScriptModule(\n",
       "  original_name=Net\n",
       "  (conv1): RecursiveScriptModule(original_name=Conv2d)\n",
       "  (conv2): RecursiveScriptModule(original_name=Conv2d)\n",
       "  (conv3): RecursiveScriptModule(original_name=Conv2d)\n",
       "  (dropout): RecursiveScriptModule(original_name=Dropout)\n",
       "  (fc1): RecursiveScriptModule(original_name=Linear)\n",
       "  (fc2): RecursiveScriptModule(original_name=Linear)\n",
       ")"
      ]
     },
     "execution_count": 51,
     "metadata": {},
     "output_type": "execute_result"
    }
   ],
   "source": [
    "model = torch.jit.load('model_scripted.pt')\n",
    "model.eval()"
   ]
  },
  {
   "cell_type": "code",
   "execution_count": null,
   "id": "ea238a17-9666-4ac8-ba62-5572708c6e79",
   "metadata": {},
   "outputs": [],
   "source": []
  }
 ],
 "metadata": {
  "kernelspec": {
   "display_name": "Python 3 (ipykernel)",
   "language": "python",
   "name": "python3"
  },
  "language_info": {
   "codemirror_mode": {
    "name": "ipython",
    "version": 3
   },
   "file_extension": ".py",
   "mimetype": "text/x-python",
   "name": "python",
   "nbconvert_exporter": "python",
   "pygments_lexer": "ipython3",
   "version": "3.12.3"
  }
 },
 "nbformat": 4,
 "nbformat_minor": 5
}
